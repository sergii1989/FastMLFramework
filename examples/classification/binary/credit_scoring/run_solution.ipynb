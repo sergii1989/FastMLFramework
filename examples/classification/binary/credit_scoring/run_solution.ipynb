{
 "cells": [
  {
   "cell_type": "markdown",
   "metadata": {},
   "source": [
    "<img src=\"https://gadgetstouse.com/wp-content/uploads/2016/06/2-logo.jpg\" width=\"200\"></img>"
   ]
  },
  {
   "cell_type": "code",
   "execution_count": null,
   "metadata": {},
   "outputs": [],
   "source": [
    "import os\n",
    "import luigi\n",
    "import warnings\n",
    "import matplotlib.pyplot as plt\n",
    "from solution_pipeline.create_solution import BuildSolution\n",
    "\n",
    "warnings.filterwarnings(\"ignore\")\n",
    "%matplotlib inline"
   ]
  },
  {
   "cell_type": "markdown",
   "metadata": {},
   "source": [
    "### Pipeline"
   ]
  },
  {
   "cell_type": "code",
   "execution_count": null,
   "metadata": {
    "scrolled": false
   },
   "outputs": [],
   "source": [
    "project_location = os.getcwd()\n",
    "config_directory = 'configs'\n",
    "config_file = 'solution.conf'\n",
    "\n",
    "local_scheduler = False  # set True if run on google collab, etc. [no localhost]\n",
    "                        # set False if run locally -> then run in terminal .luigid -> then go to http://localhost:8082\n",
    "                        # and see the dependencies and pipeline execution \n",
    "\n",
    "# Run pipeline this way\n",
    "luigi.build([BuildSolution(project_location, config_directory, config_file)], local_scheduler=local_scheduler)\n",
    "\n",
    "# Or this way\n",
    "# luigi.run(main_task_cls=BuildSolution,\n",
    "#           cmdline_args=[\"--BuildSolution-project-location=C:\\Kaggle\\home_credit_default_risk\",\n",
    "#                         \"--BuildSolution-config-directory=configs\",\n",
    "#                         \"--BuildSolution-config-file=solution.conf\",\n",
    "#                         \"--workers=1\"],\n",
    "#           local_scheduler=local_scheduler)"
   ]
  }
 ],
 "metadata": {
  "kernelspec": {
   "display_name": "Python 2",
   "language": "python",
   "name": "python2"
  },
  "language_info": {
   "codemirror_mode": {
    "name": "ipython",
    "version": 2
   },
   "file_extension": ".py",
   "mimetype": "text/x-python",
   "name": "python",
   "nbconvert_exporter": "python",
   "pygments_lexer": "ipython2",
   "version": "2.7.13"
  }
 },
 "nbformat": 4,
 "nbformat_minor": 2
}
